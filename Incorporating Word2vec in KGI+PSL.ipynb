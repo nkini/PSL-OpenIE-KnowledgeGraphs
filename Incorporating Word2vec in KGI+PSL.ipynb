{
 "cells": [
  {
   "cell_type": "code",
   "execution_count": 4,
   "metadata": {
    "collapsed": false
   },
   "outputs": [],
   "source": [
    "import gensim\n",
    "import gensim.models.word2vec\n",
    "from collections import defaultdict\n",
    "import pickle\n",
    "import numpy as np\n",
    "import fuzzywuzzy\n",
    "from fuzzywuzzy import process"
   ]
  },
  {
   "cell_type": "code",
   "execution_count": 35,
   "metadata": {
    "collapsed": false
   },
   "outputs": [],
   "source": [
    "model = gensim.models.Word2Vec.load_word2vec_format('/media/nikhil/Education/UCSC/PSL + OpenIE/word2vec/freebase-vectors-skipgram1000-en.bin.gz', binary=True)"
   ]
  },
  {
   "cell_type": "code",
   "execution_count": 14,
   "metadata": {
    "collapsed": true
   },
   "outputs": [],
   "source": [
    "#vocab = set(model.vocab.keys())"
   ]
  },
  {
   "cell_type": "code",
   "execution_count": 16,
   "metadata": {
    "collapsed": false
   },
   "outputs": [],
   "source": [
    "#pickle.dump(vocab,open('vocab-freebase-vectors-skipgram1000-en.pkl','wb'))"
   ]
  },
  {
   "cell_type": "code",
   "execution_count": 20,
   "metadata": {
    "collapsed": false
   },
   "outputs": [
    {
     "name": "stdout",
     "output_type": "stream",
     "text": [
      "/en/assi_abutbul\n",
      "/en/cfb_goose_bay\n",
      "/en/glasgow_hutchesons_aloysians_rfc\n",
      "/en/oros\n",
      "/en/jack_bruce\n"
     ]
    }
   ],
   "source": [
    "vocab = pickle.load(open('vocab-freebase-vectors-skipgram1000-en.pkl','rb'))\n",
    "i = 5\n",
    "for entity in vocab:\n",
    "    i -= 1\n",
    "    print(entity)\n",
    "    if i == 0:\n",
    "        break"
   ]
  },
  {
   "cell_type": "code",
   "execution_count": 5,
   "metadata": {
    "collapsed": false
   },
   "outputs": [],
   "source": [
    "## Create dictionary to translate the id to the name\n",
    "\n",
    "id2name = dict()\n",
    "\n",
    "with open('names.txt') as f:\n",
    "    for line in f:\n",
    "        uniqid,name = line.strip('\\n').split('\\t')\n",
    "        id2name[int(uniqid)] = name"
   ]
  },
  {
   "cell_type": "code",
   "execution_count": 6,
   "metadata": {
    "collapsed": false
   },
   "outputs": [
    {
     "data": {
      "text/plain": [
       "'citycapitalofcountry'"
      ]
     },
     "execution_count": 6,
     "metadata": {},
     "output_type": "execute_result"
    }
   ],
   "source": [
    "id2name[181130]"
   ]
  },
  {
   "cell_type": "code",
   "execution_count": 7,
   "metadata": {
    "collapsed": false
   },
   "outputs": [],
   "source": [
    "uniq_rel = set()\n",
    "valid_triples = defaultdict(set)\n",
    "invalid_triples = defaultdict(set)\n",
    "\n",
    "# Read the training relations file and separate the valid relations from the invalid relations\n",
    "with open('label-train-uniq-raw-rel.db.TRAIN') as f:\n",
    "    for line in f:\n",
    "        \n",
    "        e1id,e2id,relid,truth = line.strip('\\n').split('\\t')\n",
    "        \n",
    "        e1 = id2name[int(e1id)]\n",
    "        e2 = id2name[int(e2id)]\n",
    "        rel = id2name[int(relid)]\n",
    "        \n",
    "        uniq_rel.add(rel)\n",
    "        \n",
    "        if truth == '1':\n",
    "            valid_triples[rel].add((e1,e2))\n",
    "        elif truth == '0':\n",
    "            invalid_triples[rel].add((e1,e2))\n",
    "        else:\n",
    "            print(\"strange truth value found\")\n",
    "            \n",
    "pickle.dump(id2name, open('pickles/names.txt-id2name.pkl','wb'))\n",
    "pickle.dump(valid_triples,open('pickles/label-train-uniq-raw-rel.db.TRAIN-valid_triples.pkl','wb'))\n",
    "pickle.dump(invalid_triples,open('pickles/label-train-uniq-raw-rel.db.TRAIN-invalid_triples.pkl','wb'))"
   ]
  },
  {
   "cell_type": "code",
   "execution_count": 24,
   "metadata": {
    "collapsed": false
   },
   "outputs": [],
   "source": [
    "uniq_rel = set()\n",
    "valid_triples = defaultdict(set)\n",
    "invalid_triples = defaultdict(set)\n",
    "candidate_triples = defaultdict(set)\n",
    "\n",
    "filelist = [\"label-train-uniq-raw-rel.db.TRAIN\", \"label-test-uniq-raw-rel.db.TRAIN\", \"NELL.08m.165.cesv.csv.CandRel_CBL.out\", \"NELL.08m.165.cesv.csv.CandRel_CPL.out\", \"NELL.08m.165.cesv.csv.CandRel_General.out\", \"NELL.08m.165.cesv.csv.CandRel.out\", \"NELL.08m.165.cesv.csv.CandRel_SEAL.out\", \"NELL.08m.165.cesv.csv.PattRel.out\", \"NELL.08m.165.esv.csv.PromRel_General.out\", \"seed.165.rel.uniq.out\", \"seed.165.rel.uniq_te.out\", \"testTargets.additional.Rel.out\", \"testTargets.additional.ValRel.out\", \"testTargets.shangpu.Rel.out\", \"testTargets.shangpu.ValRel.out\", \"trainTargets.Rel.out\", \"trainTargets.ValRel.out\", \"wlTargets.Rel.out\"]\n",
    "\n",
    "# Read ALL POSSIBLE RELATIONS FILES and separate the valid relations (Truth value 1) from \n",
    "# the invalid relations (Truth value 0) from the candidate relations (Truth value (0,1))\n",
    "\n",
    "for file in filelist:\n",
    "    with open(file) as f:\n",
    "        for line in f:\n",
    "            e1id,e2id,relid,truth = line.strip('\\n').split('\\t')\n",
    "\n",
    "            e1 = int(e1id)\n",
    "            e2 = int(e2id)\n",
    "            rel = int(relid)\n",
    "            uniq_rel.add(rel)\n",
    "            \n",
    "            if truth == '1':\n",
    "                valid_triples[rel].add((e1,e2))\n",
    "            elif truth == '0':\n",
    "                invalid_triples[rel].add((e1,e2))\n",
    "            else:\n",
    "                candidate_triples[rel].add((e1,e2))\n"
   ]
  },
  {
   "cell_type": "code",
   "execution_count": 27,
   "metadata": {
    "collapsed": false
   },
   "outputs": [
    {
     "name": "stdout",
     "output_type": "stream",
     "text": [
      "275\n",
      "72769\n",
      "11701\n",
      "194419\n"
     ]
    }
   ],
   "source": [
    "candidate_triples_count = 0\n",
    "valid_triples_count = 0\n",
    "invalid_triples_count = 0\n",
    "\n",
    "for key in valid_triples.keys():\n",
    "    valid_triples_count += len(valid_triples[key])\n",
    "\n",
    "for key in invalid_triples.keys():\n",
    "    invalid_triples_count += len(invalid_triples[key])\n",
    "\n",
    "for key in candidate_triples.keys():\n",
    "    candidate_triples_count += len(candidate_triples[key])\n",
    "    \n",
    "print(len(uniq_rel))\n",
    "print(valid_triples_count)\n",
    "print(invalid_triples_count)\n",
    "print(candidate_triples_count)"
   ]
  },
  {
   "cell_type": "code",
   "execution_count": 28,
   "metadata": {
    "collapsed": true
   },
   "outputs": [],
   "source": [
    "pickle.dump(uniq_rel, open('pickles/uniq_rel.pkl','wb'))\n",
    "pickle.dump(valid_triples,open('pickles/valid_triples.pkl','wb'))\n",
    "pickle.dump(invalid_triples,open('pickles/invalid_triples.pkl','wb'))\n",
    "pickle.dump(candidate_triples,open('pickles/candidate_triples.pkl','wb'))"
   ]
  },
  {
   "cell_type": "code",
   "execution_count": 32,
   "metadata": {
    "collapsed": false
   },
   "outputs": [
    {
     "name": "stdout",
     "output_type": "stream",
     "text": [
      "file: label-train-uniq-raw-rel.db.TRAIN\n",
      "1849  : both_entities_in_word2vec\n",
      "2533  : one_or_both_entities_not_in_word2vec:\n",
      "\n",
      "file: label-test-uniq-raw-rel.db.TRAIN\n",
      "808  : both_entities_in_word2vec\n",
      "1012  : one_or_both_entities_not_in_word2vec:\n",
      "\n",
      "file: seed.165.rel.uniq.out\n",
      "1209  : both_entities_in_word2vec\n",
      "1276  : one_or_both_entities_not_in_word2vec:\n",
      "\n",
      "file: seed.165.rel.uniq_te.out\n",
      "1174  : both_entities_in_word2vec\n",
      "1252  : one_or_both_entities_not_in_word2vec:\n",
      "\n",
      "file: testTargets.additional.Rel.out\n",
      "21  : both_entities_in_word2vec\n",
      "39  : one_or_both_entities_not_in_word2vec:\n",
      "\n",
      "file: testTargets.additional.ValRel.out\n",
      "21  : both_entities_in_word2vec\n",
      "39  : one_or_both_entities_not_in_word2vec:\n",
      "\n",
      "file: testTargets.shangpu.Rel.out\n",
      "1944  : both_entities_in_word2vec\n",
      "1936  : one_or_both_entities_not_in_word2vec:\n",
      "\n",
      "file: testTargets.shangpu.ValRel.out\n",
      "1958  : both_entities_in_word2vec\n",
      "1955  : one_or_both_entities_not_in_word2vec:\n",
      "\n",
      "file: trainTargets.Rel.out\n",
      "4330  : both_entities_in_word2vec\n",
      "5848  : one_or_both_entities_not_in_word2vec:\n",
      "\n",
      "file: trainTargets.ValRel.out\n",
      "4330  : both_entities_in_word2vec\n",
      "5848  : one_or_both_entities_not_in_word2vec:\n",
      "\n",
      "file: wlTargets.Rel.out\n",
      "4330  : both_entities_in_word2vec\n",
      "5848  : one_or_both_entities_not_in_word2vec:\n",
      "\n",
      "Cumulatively:\n",
      "7475  : both_entities_in_word2vec\n",
      "9094  : one_or_both_entities_not_in_word2vec:\n"
     ]
    }
   ],
   "source": [
    "# Relation files MINUS CANDIDATE RELATIONS\n",
    "# Counts the number of *true* relations that are usable for calculating the average relation vector\n",
    "\n",
    "filelist = [\"label-train-uniq-raw-rel.db.TRAIN\",\n",
    "            \"label-test-uniq-raw-rel.db.TRAIN\",\n",
    "            \"seed.165.rel.uniq.out\",\n",
    "            \"seed.165.rel.uniq_te.out\",\n",
    "            \"testTargets.additional.Rel.out\", \n",
    "            \"testTargets.additional.ValRel.out\", \n",
    "            \"testTargets.shangpu.Rel.out\",\n",
    "            \"testTargets.shangpu.ValRel.out\", \n",
    "            \"trainTargets.Rel.out\", \n",
    "            \"trainTargets.ValRel.out\",\n",
    "            \"wlTargets.Rel.out\"]\n",
    "\n",
    "cum_both_entities_in_word2vec = set()\n",
    "cum_one_or_both_entities_not_in_word2vec = set()\n",
    "\n",
    "for file in filelist:\n",
    "    \n",
    "    print(\"file:\",file)\n",
    "    \n",
    "    both_entities_in_word2vec = set()\n",
    "    one_or_both_entities_not_in_word2vec = set()\n",
    "    \n",
    "    with open(file) as f:\n",
    "        \n",
    "        for line in f:\n",
    "            \n",
    "            e1id,e2id,relid,truth = line.strip('\\n').split('\\t')\n",
    "            \n",
    "            e1 = id2name[int(e1id)]\n",
    "            e2 = id2name[int(e2id)]\n",
    "            \n",
    "            if truth == '1':\n",
    "                if '/en/'+e1 not in vocab or '/en/'+e2 not in vocab:\n",
    "                    one_or_both_entities_not_in_word2vec.add((e1,e2))\n",
    "                else:\n",
    "                    both_entities_in_word2vec.add((e1,e2))\n",
    "                    \n",
    "    cum_both_entities_in_word2vec.update(both_entities_in_word2vec)\n",
    "    cum_one_or_both_entities_not_in_word2vec.update(one_or_both_entities_not_in_word2vec)\n",
    "                    \n",
    "    print(len(both_entities_in_word2vec),\" : both_entities_in_word2vec\")\n",
    "    print(len(one_or_both_entities_not_in_word2vec),\" : one_or_both_entities_not_in_word2vec\")\n",
    "    pickle.dump(both_entities_in_word2vec,open('pickles/'+file+'-both-entities-in-w2v.pkl','wb'))\n",
    "    pickle.dump(one_or_both_entities_not_in_word2vec,open('pickles/'+file+'-one-or-both-entities-not-in-w2v.pkl','wb'))\n",
    "    print()\n",
    "\n",
    "print(\"Cumulatively:\")\n",
    "print(len(cum_both_entities_in_word2vec),\" : both_entities_in_word2vec\")\n",
    "print(len(cum_one_or_both_entities_not_in_word2vec),\" : one_or_both_entities_not_in_word2vec\")\n",
    "pickle.dump(both_entities_in_word2vec,open('pickles/cum_both-entities-in-w2v.pkl','wb'))\n",
    "pickle.dump(one_or_both_entities_not_in_word2vec,open('pickles/cum_one-or-both-entities-not-in-w2v.pkl','wb'))"
   ]
  },
  {
   "cell_type": "code",
   "execution_count": 34,
   "metadata": {
    "collapsed": false
   },
   "outputs": [
    {
     "data": {
      "text/plain": [
       "157"
      ]
     },
     "execution_count": 34,
     "metadata": {},
     "output_type": "execute_result"
    }
   ],
   "source": [
    "'''\n",
    "Get the true relations in the form\n",
    " {\n",
    "    relation1: [(e11,e12),(e13,e14)...],\n",
    "    relation2: [(e21,e22),(e23,e24)...]\n",
    " }\n",
    "'''\n",
    "\n",
    "preproc_for_avg_rel_vec = defaultdict(set)\n",
    "\n",
    "filelist = [\"label-train-uniq-raw-rel.db.TRAIN\", \"label-test-uniq-raw-rel.db.TRAIN\", \"seed.165.rel.uniq.out\", \"seed.165.rel.uniq_te.out\", \"testTargets.additional.Rel.out\", \"testTargets.additional.ValRel.out\", \"testTargets.shangpu.Rel.out\", \"testTargets.shangpu.ValRel.out\", \"trainTargets.Rel.out\", \"trainTargets.ValRel.out\", \"wlTargets.Rel.out\"]\n",
    "\n",
    "for file in filelist:\n",
    "    \n",
    "    with open(file) as f:\n",
    "        \n",
    "        for line in f:\n",
    "            \n",
    "            e1id,e2id,relid,truth = line.strip('\\n').split('\\t')\n",
    "            \n",
    "            e1 = id2name[int(e1id)]\n",
    "            e2 = id2name[int(e2id)]\n",
    "            \n",
    "            if truth == '1' and '/en/'+e1 in vocab and '/en/'+e2 in vocab:\n",
    "                preproc_for_avg_rel_vec[int(relid)].add(('/en/'+e1,'/en/'+e2))\n",
    "                \n",
    "len(preproc_for_avg_rel_vec)"
   ]
  },
  {
   "cell_type": "code",
   "execution_count": 37,
   "metadata": {
    "collapsed": false
   },
   "outputs": [],
   "source": [
    "'''\n",
    "Calculate average relation vector for the 157 unique relations\n",
    "'''\n",
    "\n",
    "avg_rel_vectors = dict()\n",
    "\n",
    "for rel,elist in preproc_for_avg_rel_vec.items():\n",
    "    n = len(elist)\n",
    "    vector_sum = 0\n",
    "    for e1,e2 in elist:\n",
    "        vector_sum += model[e1] - model[e2]\n",
    "    avg_rel_vectors[rel] = vector_sum / n"
   ]
  },
  {
   "cell_type": "code",
   "execution_count": 40,
   "metadata": {
    "collapsed": false
   },
   "outputs": [
    {
     "name": "stdout",
     "output_type": "stream",
     "text": [
      "157\n"
     ]
    }
   ],
   "source": [
    "print(len(avg_rel_vectors))\n",
    "pickle.dump(avg_rel_vectors,open('pickles/avg_rel_vectors-157-relations.pkl','wb'))"
   ]
  },
  {
   "cell_type": "code",
   "execution_count": null,
   "metadata": {
    "collapsed": true
   },
   "outputs": [],
   "source": []
  },
  {
   "cell_type": "code",
   "execution_count": null,
   "metadata": {
    "collapsed": true
   },
   "outputs": [],
   "source": []
  },
  {
   "cell_type": "code",
   "execution_count": null,
   "metadata": {
    "collapsed": true
   },
   "outputs": [],
   "source": []
  },
  {
   "cell_type": "code",
   "execution_count": 45,
   "metadata": {
    "collapsed": true
   },
   "outputs": [
    {
     "name": "stdout",
     "output_type": "stream",
     "text": [
      "seattle_redhawks : [('/en/seattle_seahawks', 80), ('/en/seattle_seahawks_ring_of_honor', 79)]\n",
      "bobby_mosebach : [('/en/bach', 75), ('/en/bobby_hosea', 71)]\n",
      "ohio_university_bobcats : [('/en/ohio_university', 73), ('/en/ohio_university_press', 72)]\n",
      "virginia_tech : [('/en/virginia_tech_hokies', 90), ('/en/virginia_tech_massacre', 90)]\n",
      "o__j__simpson : [('/en/o_j_simpson', 81), ('/en/o_j_simpson_murder_case', 76)]\n",
      "bears : [('/en/birmingham_bears', 90), ('/en/doosan_bears', 90)]\n",
      "uc_santa_barbara_gauchos : [('/en/santa_barbara', 73), ('/en/ana_barbara', 71)]\n",
      "minnesota_duluth_bulldogs : [('/en/duluth_bulldogs', 74), ('/en/west_duluth', 71)]\n",
      "pats : [('/en/patsy_rowe', 90), ('/en/patsy_calton', 90)]\n",
      "adobe_website : [('/en/corporate_website', 75), ('/en/website', 70)]\n",
      "america_west_arena : [('/en/en', 86), ('/en/american_west', 78)]\n",
      "dodgers_stadium : [('/en/dodger_stadium', 88), ('/en/rogers_stadium', 81)]\n",
      "ucla : [('/en/roussel_uclaf', 90), ('/en/ucla_taser_incident', 90)]\n",
      "scott_baker : [('/en/scott_baker_1981', 90), ('/en/scott_baker_1957', 90)]\n",
      "bridges_of_madison_county : [('/en/the_bridges_of_madison_county', 88), ('/en/the_bridges_of_madison_county_1995', 81)]\n",
      "maryvale_sports_park : [('/en/sportspark', 76), ('/en/charlotte_sports_park', 73)]\n",
      "norfolk_state_spartans : [('/en/spartans', 77), ('/en/spartan', 72)]\n",
      "fresno_state : [('/en/fresno_state_bulldogs', 90), ('/en/mon_state', 75)]\n",
      "ga_tech_yellow_jackets : [('/en/georgia_tech_yellow_jackets_football', 86), ('/en/georgia_tech_yellow_jackets_mens_basketball', 86)]\n",
      "northern_iowa : [('/en/university_of_northern_iowa', 90), ('/en/northern_iowa_panthers', 90)]\n",
      "von_braun_center_concert_hall : [('/en/en', 86), ('/en/concert_hall', 78)]\n",
      "allentown_fairgrounds : [('/en/en', 86), ('/en/town', 77)]\n",
      "meadow_brook_theatre : [('/en/meadow_brook_hall', 75), ('/en/lobero_theatre', 70)]\n",
      "civic_theatre : [('/en/newcastle_civic_theatre', 90), ('/en/auckland_civic_theatre', 90)]\n",
      "the_mckenzie_arena : [('/en/en', 86), ('/en/mckenzie_arena', 86)]\n",
      "oregon_state : [('/en/oregon_state_route_82', 90), ('/en/oregon_state_beavers', 90)]\n",
      "molson_centre : [('/en/barrie_molson_centre', 90), ('/en/en', 86)]\n",
      "gerald_j__ford_stadium : [('/en/gerald_j_ford_stadium', 91), ('/en/alfond_stadium', 72)]\n",
      "penguins : [('/en/march_of_the_penguins', 90), ('/en/3_2_1_penguins', 90)]\n",
      "legion_field_stadium : [('/en/greenfield_stadium', 78), ('/en/legion_stadium', 76)]\n",
      "wells_fargo_theatre : [('/en/fargo_theatre', 80), ('/en/wells_fargo_amphitheater', 78)]\n",
      "t_mobile : [('/en/t_mobile_austria', 90), ('/en/jamdat_mobile', 90)]\n",
      "arkansas_state_red_wolves : [('/en/arkansas_state_wolves', 86), ('/en/arkansas_state_police', 73)]\n",
      "flames : [('/en/feet_of_flames', 90), ('/en/flameshovel_records', 90)]\n",
      "paul_o_neill : [('/en/paul_oneill', 85), ('/en/paul_oneill_1928', 83)]\n",
      "cleveland_rams : [('/en/cleveland_dam', 80), ('/en/cleveland_cobras', 79)]\n",
      "dan_maples : [('/en/canadian_maple_leaf', 81), ('/en/michael_d_maples', 80)]\n",
      "mike_hinckley : [('/en/michael_hinckley', 75), ('/en/hinckley', 75)]\n",
      "uw_river_falls : [('/en/river_falls', 79), ('/en/englishman_river_falls_provincial_park', 77)]\n",
      "penn_state : [('/en/penn_state_nittany_lions_volleyball', 90), ('/en/penn_state_college_of_communications', 90)]\n",
      "english_football : [('/en/english_football_league_system', 90), ('/en/english_football_hall_of_fame', 90)]\n",
      "landmark_theater_va : [('/en/landmark_theater', 84), ('/en/landmark_theatre', 79)]\n",
      "henry_fonda_theatre : [('/en/en', 86), ('/en/rondo_theatre', 80)]\n",
      "baylor : [('/en/baylor_county', 90), ('/en/baylor_bears_football', 90)]\n",
      "baquba : [('/en/baqubah', 90), ('/en/timbauba', 82)]\n",
      "microsoft_excel : [('/en/microsoft_exchange_client', 78), ('/en/microsoft_expression_media', 78)]\n",
      "los_angeles_rams : [('/en/los_angeles_drama_critics_circle_award', 85), ('/en/los_angeles_drama_critics_circle', 85)]\n",
      "high_point_panthers : [('/en/high_point_enterprise', 74), ('/en/panthers', 74)]\n",
      "arkansas_little_rock_trojans : [('/en/uss_little_rock', 75), ('/en/university_of_arkansas_at_little_rock_school_of_law', 71)]\n",
      "meyerhoff_symphony_hall : [('/en/joseph_meyerhoff_symphony_hall', 82), ('/en/symphony_hall', 72)]\n",
      "ny_yankees : [('/en/damn_yankees_1958', 81), ('/en/staten_island_yankees', 81)]\n",
      "florida_state : [('/en/florida_state_board_of_administration', 90), ('/en/florida_state_university_panama_city', 90)]\n",
      "stetson_hatters : [('/en/haters', 70), ('/en/son_ha', 70)]\n",
      "gampel_pavilion : [('/en/harry_a_gampel_pavilion', 90), ('/en/grace_pavilion', 75)]\n",
      "tucson_music_hall : [('/en/tacony_music_hall', 81), ('/en/boston_music_hall', 76)]\n",
      "joel_coliseum : [('/en/littlejohn_coliseum', 76), ('/en/prince_george_coliseum', 76)]\n",
      "los_angeles_sports_arena : [('/en/en', 86), ('/en/los_angeles_memorial_sports_arena', 80)]\n",
      "candlestick_park : [('/en/candlestick_chart', 78), ('/en/candlestick_point_state_recreation_area', 73)]\n",
      "sokol_underground : [('/en/tokyo_underground', 81), ('/en/bristol_underground_scene', 79)]\n",
      "saint_louis_blues : [('/en/st_louis_blues', 82), ('/en/saint_louis_billikens', 78)]\n",
      "freedom_hill_amphitheatre : [('/en/amphitheatre', 76), ('/en/ford_amphitheatre', 71)]\n",
      "enron_field : [('/en/ron_field', 96), ('/en/brown_field', 88)]\n",
      "french_film : [('/en/alliance_francaise_french_film_festival', 90), ('/en/sacramento_french_film_festival', 90)]\n",
      "brick_breeden_fieldhouse : [('/en/en', 86), ('/en/field_house', 80)]\n",
      "visual_studio : [('/en/visual_studio_team_system', 90), ('/en/microsoft_visual_studio_debugger', 90)]\n",
      "oakland_alameda_county_coliseum : [('/en/oakland-alameda_county_coliseum_authority', 80), ('/en/alameda_county', 79)]\n",
      "old_tom_morris : [('/en/old_tom_morris_award', 90), ('/en/world_of_morrissey', 77)]\n",
      "leon_county_civic_center : [('/en/lee_county_civic_center', 88), ('/en/en', 86)]\n",
      "new_mexico_state : [('/en/new_mexico_state_road_502', 90), ('/en/new_mexico_state_road_528', 90)]\n",
      "uno_lakefront_arena : [('/en/en', 86), ('/en/lakefront_arena', 86)]\n",
      "apple_tv : [('/en/apple_tv_converter', 90), ('/en/apple_type_services_for_unicode_imaging', 79)]\n",
      "djokovic : [('/en/djokovic_nadal_rivalry', 90), ('/en/novak_djokovic', 90)]\n",
      "cavaliers : [('/en/hong_kong_cavaliers', 90), ('/en/virginia_cavaliers', 90)]\n",
      "florida_gulf_coast_eagles : [('/en/florida_gulf_coast', 78), ('/en/florida_gulf_coast_university', 74)]\n",
      "cal_berkeley_gold_bears : [('/en/alberta_golden_bears', 70), ('/en/da_bears', 67)]\n",
      "showbox_theater : [('/en/clinton_area_showboat_theatre', 78), ('/en/red_robinson_show_theatre', 73)]\n",
      "bethune_cookman_college : [('/en/bethune-cookman_college', 90), ('/en/cook_college', 74)]\n",
      "uconn : [('/en/henri_fauconnier', 90), ('/en/uconnect_phone', 90)]\n",
      "zeal : [('/en/new_zealand_music_awards', 90), ('/en/winton_new_zealand', 90)]\n",
      "san_fransisco : [('/en/san_francisco_film_critics_circle', 83), ('/en/san_francisco_argentina', 83)]\n",
      "bryant_denny_stadium : [('/en/bryant-denny_stadium', 88), ('/en/en', 86)]\n",
      "canadian_airlines_international : [('/en/ms_international', 82), ('/en/lms_international', 80)]\n",
      "world_cup_qualifier : [('/en/2009_icc_world_cup_qualifier', 90), ('/en/2014_fifa_world_cup_qualification', 80)]\n",
      "juilliard : [('/en/juilliard_string_quartet', 90), ('/en/juilliard_school', 90)]\n",
      "sacramento_state_hornets : [('/en/en', 86), ('/en/old_sacramento_state_historic_park', 75)]\n",
      "minnesota_golden_go : [('/en/minnesota_golden_gophers_mens_basketball', 90), ('/en/minnesota_golden_gophers_football', 90)]\n",
      "mariners : [('/en/tassie_mariners', 90), ('/en/central_coast_mariners_fc_w_league', 90)]\n"
     ]
    },
    {
     "ename": "KeyboardInterrupt",
     "evalue": "",
     "output_type": "error",
     "traceback": [
      "\u001b[1;31m---------------------------------------------------------------------------\u001b[0m",
      "\u001b[1;31mAttributeError\u001b[0m                            Traceback (most recent call last)",
      "\u001b[1;32m/usr/local/lib/python3.4/dist-packages/fuzzywuzzy/process.py\u001b[0m in \u001b[0;36mextract\u001b[1;34m(query, choices, processor, scorer, limit)\u001b[0m\n\u001b[0;32m    101\u001b[0m         \u001b[1;31m# See if choices is a dictionary-like object.\u001b[0m\u001b[1;33m\u001b[0m\u001b[1;33m\u001b[0m\u001b[0m\n\u001b[1;32m--> 102\u001b[1;33m         \u001b[1;32mfor\u001b[0m \u001b[0mkey\u001b[0m\u001b[1;33m,\u001b[0m \u001b[0mchoice\u001b[0m \u001b[1;32min\u001b[0m \u001b[0mchoices\u001b[0m\u001b[1;33m.\u001b[0m\u001b[0mitems\u001b[0m\u001b[1;33m(\u001b[0m\u001b[1;33m)\u001b[0m\u001b[1;33m:\u001b[0m\u001b[1;33m\u001b[0m\u001b[0m\n\u001b[0m\u001b[0;32m    103\u001b[0m             \u001b[0mprocessed\u001b[0m \u001b[1;33m=\u001b[0m \u001b[0mprocessor\u001b[0m\u001b[1;33m(\u001b[0m\u001b[0mchoice\u001b[0m\u001b[1;33m)\u001b[0m\u001b[1;33m\u001b[0m\u001b[0m\n",
      "\u001b[1;31mAttributeError\u001b[0m: 'list' object has no attribute 'items'",
      "\nDuring handling of the above exception, another exception occurred:\n",
      "\u001b[1;31mKeyboardInterrupt\u001b[0m                         Traceback (most recent call last)",
      "\u001b[1;32m<ipython-input-45-58545a4b1d59>\u001b[0m in \u001b[0;36m<module>\u001b[1;34m()\u001b[0m\n\u001b[0;32m      1\u001b[0m \u001b[1;32mfor\u001b[0m \u001b[0me\u001b[0m \u001b[1;32min\u001b[0m \u001b[0mnot_in_model_list\u001b[0m\u001b[1;33m:\u001b[0m\u001b[1;33m\u001b[0m\u001b[0m\n\u001b[1;32m----> 2\u001b[1;33m     \u001b[0mprint\u001b[0m\u001b[1;33m(\u001b[0m\u001b[0me\u001b[0m\u001b[1;33m,\u001b[0m \u001b[1;34m\":\"\u001b[0m\u001b[1;33m,\u001b[0m \u001b[0mprocess\u001b[0m\u001b[1;33m.\u001b[0m\u001b[0mextract\u001b[0m\u001b[1;33m(\u001b[0m\u001b[0me\u001b[0m\u001b[1;33m,\u001b[0m \u001b[0mcandidates\u001b[0m\u001b[1;33m,\u001b[0m \u001b[0mlimit\u001b[0m\u001b[1;33m=\u001b[0m\u001b[1;36m2\u001b[0m\u001b[1;33m)\u001b[0m\u001b[1;33m)\u001b[0m\u001b[1;33m\u001b[0m\u001b[0m\n\u001b[0m",
      "\u001b[1;32m/usr/local/lib/python3.4/dist-packages/fuzzywuzzy/process.py\u001b[0m in \u001b[0;36mextract\u001b[1;34m(query, choices, processor, scorer, limit)\u001b[0m\n\u001b[0;32m    108\u001b[0m         \u001b[1;32mfor\u001b[0m \u001b[0mchoice\u001b[0m \u001b[1;32min\u001b[0m \u001b[0mchoices\u001b[0m\u001b[1;33m:\u001b[0m\u001b[1;33m\u001b[0m\u001b[0m\n\u001b[0;32m    109\u001b[0m             \u001b[0mprocessed\u001b[0m \u001b[1;33m=\u001b[0m \u001b[0mprocessor\u001b[0m\u001b[1;33m(\u001b[0m\u001b[0mchoice\u001b[0m\u001b[1;33m)\u001b[0m\u001b[1;33m\u001b[0m\u001b[0m\n\u001b[1;32m--> 110\u001b[1;33m             \u001b[0mscore\u001b[0m \u001b[1;33m=\u001b[0m \u001b[0mscorer\u001b[0m\u001b[1;33m(\u001b[0m\u001b[0mquery\u001b[0m\u001b[1;33m,\u001b[0m \u001b[0mprocessed\u001b[0m\u001b[1;33m)\u001b[0m\u001b[1;33m\u001b[0m\u001b[0m\n\u001b[0m\u001b[0;32m    111\u001b[0m             \u001b[0msl\u001b[0m\u001b[1;33m.\u001b[0m\u001b[0mappend\u001b[0m\u001b[1;33m(\u001b[0m\u001b[1;33m(\u001b[0m\u001b[0mchoice\u001b[0m\u001b[1;33m,\u001b[0m \u001b[0mscore\u001b[0m\u001b[1;33m)\u001b[0m\u001b[1;33m)\u001b[0m\u001b[1;33m\u001b[0m\u001b[0m\n\u001b[0;32m    112\u001b[0m \u001b[1;33m\u001b[0m\u001b[0m\n",
      "\u001b[1;32m/usr/local/lib/python3.4/dist-packages/fuzzywuzzy/fuzz.py\u001b[0m in \u001b[0;36mWRatio\u001b[1;34m(s1, s2, force_ascii)\u001b[0m\n\u001b[0;32m    247\u001b[0m         \u001b[0mpartial\u001b[0m \u001b[1;33m=\u001b[0m \u001b[0mpartial_ratio\u001b[0m\u001b[1;33m(\u001b[0m\u001b[0mp1\u001b[0m\u001b[1;33m,\u001b[0m \u001b[0mp2\u001b[0m\u001b[1;33m)\u001b[0m \u001b[1;33m*\u001b[0m \u001b[0mpartial_scale\u001b[0m\u001b[1;33m\u001b[0m\u001b[0m\n\u001b[0;32m    248\u001b[0m         \u001b[0mptsor\u001b[0m \u001b[1;33m=\u001b[0m \u001b[0mpartial_token_sort_ratio\u001b[0m\u001b[1;33m(\u001b[0m\u001b[0mp1\u001b[0m\u001b[1;33m,\u001b[0m \u001b[0mp2\u001b[0m\u001b[1;33m,\u001b[0m \u001b[0mforce_ascii\u001b[0m\u001b[1;33m=\u001b[0m\u001b[0mforce_ascii\u001b[0m\u001b[1;33m)\u001b[0m\u001b[0;31m \u001b[0m\u001b[0;31m\\\u001b[0m\u001b[1;33m\u001b[0m\u001b[0m\n\u001b[1;32m--> 249\u001b[1;33m             \u001b[1;33m*\u001b[0m \u001b[0munbase_scale\u001b[0m \u001b[1;33m*\u001b[0m \u001b[0mpartial_scale\u001b[0m\u001b[1;33m\u001b[0m\u001b[0m\n\u001b[0m\u001b[0;32m    250\u001b[0m         \u001b[0mptser\u001b[0m \u001b[1;33m=\u001b[0m \u001b[0mpartial_token_set_ratio\u001b[0m\u001b[1;33m(\u001b[0m\u001b[0mp1\u001b[0m\u001b[1;33m,\u001b[0m \u001b[0mp2\u001b[0m\u001b[1;33m,\u001b[0m \u001b[0mforce_ascii\u001b[0m\u001b[1;33m=\u001b[0m\u001b[0mforce_ascii\u001b[0m\u001b[1;33m)\u001b[0m\u001b[0;31m \u001b[0m\u001b[0;31m\\\u001b[0m\u001b[1;33m\u001b[0m\u001b[0m\n\u001b[0;32m    251\u001b[0m             \u001b[1;33m*\u001b[0m \u001b[0munbase_scale\u001b[0m \u001b[1;33m*\u001b[0m \u001b[0mpartial_scale\u001b[0m\u001b[1;33m\u001b[0m\u001b[0m\n",
      "\u001b[1;32m/usr/local/lib/python3.4/dist-packages/fuzzywuzzy/fuzz.py\u001b[0m in \u001b[0;36mpartial_token_sort_ratio\u001b[1;34m(s1, s2, force_ascii)\u001b[0m\n\u001b[0;32m    131\u001b[0m     \u001b[1;36m0\u001b[0m \u001b[1;32mand\u001b[0m \u001b[1;36m100\u001b[0m \u001b[0mbut\u001b[0m \u001b[0msorting\u001b[0m \u001b[0mthe\u001b[0m \u001b[0mtoken\u001b[0m \u001b[0mbefore\u001b[0m \u001b[0mcomparing\u001b[0m\u001b[1;33m.\u001b[0m\u001b[1;33m\u001b[0m\u001b[0m\n\u001b[0;32m    132\u001b[0m     \"\"\"\n\u001b[1;32m--> 133\u001b[1;33m     \u001b[1;32mreturn\u001b[0m \u001b[0m_token_sort\u001b[0m\u001b[1;33m(\u001b[0m\u001b[0ms1\u001b[0m\u001b[1;33m,\u001b[0m \u001b[0ms2\u001b[0m\u001b[1;33m,\u001b[0m \u001b[0mpartial\u001b[0m\u001b[1;33m=\u001b[0m\u001b[1;32mTrue\u001b[0m\u001b[1;33m,\u001b[0m \u001b[0mforce_ascii\u001b[0m\u001b[1;33m=\u001b[0m\u001b[0mforce_ascii\u001b[0m\u001b[1;33m)\u001b[0m\u001b[1;33m\u001b[0m\u001b[0m\n\u001b[0m\u001b[0;32m    134\u001b[0m \u001b[1;33m\u001b[0m\u001b[0m\n\u001b[0;32m    135\u001b[0m \u001b[1;33m\u001b[0m\u001b[0m\n",
      "\u001b[1;32m/usr/local/lib/python3.4/dist-packages/fuzzywuzzy/utils.py\u001b[0m in \u001b[0;36mdecorator\u001b[1;34m(*args, **kwargs)\u001b[0m\n\u001b[0;32m     21\u001b[0m         \u001b[1;32mif\u001b[0m \u001b[0margs\u001b[0m\u001b[1;33m[\u001b[0m\u001b[1;36m0\u001b[0m\u001b[1;33m]\u001b[0m \u001b[1;32mis\u001b[0m \u001b[1;32mNone\u001b[0m \u001b[1;32mor\u001b[0m \u001b[0margs\u001b[0m\u001b[1;33m[\u001b[0m\u001b[1;36m1\u001b[0m\u001b[1;33m]\u001b[0m \u001b[1;32mis\u001b[0m \u001b[1;32mNone\u001b[0m\u001b[1;33m:\u001b[0m\u001b[1;33m\u001b[0m\u001b[0m\n\u001b[0;32m     22\u001b[0m             \u001b[1;32mreturn\u001b[0m \u001b[1;36m0\u001b[0m\u001b[1;33m\u001b[0m\u001b[0m\n\u001b[1;32m---> 23\u001b[1;33m         \u001b[1;32mreturn\u001b[0m \u001b[0mfunc\u001b[0m\u001b[1;33m(\u001b[0m\u001b[1;33m*\u001b[0m\u001b[0margs\u001b[0m\u001b[1;33m,\u001b[0m \u001b[1;33m**\u001b[0m\u001b[0mkwargs\u001b[0m\u001b[1;33m)\u001b[0m\u001b[1;33m\u001b[0m\u001b[0m\n\u001b[0m\u001b[0;32m     24\u001b[0m     \u001b[1;32mreturn\u001b[0m \u001b[0mdecorator\u001b[0m\u001b[1;33m\u001b[0m\u001b[0m\n\u001b[0;32m     25\u001b[0m \u001b[1;33m\u001b[0m\u001b[0m\n",
      "\u001b[1;32m/usr/local/lib/python3.4/dist-packages/fuzzywuzzy/fuzz.py\u001b[0m in \u001b[0;36m_token_sort\u001b[1;34m(s1, s2, partial, force_ascii)\u001b[0m\n\u001b[0;32m    115\u001b[0m \u001b[1;33m\u001b[0m\u001b[0m\n\u001b[0;32m    116\u001b[0m     \u001b[1;32mif\u001b[0m \u001b[0mpartial\u001b[0m\u001b[1;33m:\u001b[0m\u001b[1;33m\u001b[0m\u001b[0m\n\u001b[1;32m--> 117\u001b[1;33m         \u001b[1;32mreturn\u001b[0m \u001b[0mpartial_ratio\u001b[0m\u001b[1;33m(\u001b[0m\u001b[0msorted1\u001b[0m\u001b[1;33m,\u001b[0m \u001b[0msorted2\u001b[0m\u001b[1;33m)\u001b[0m\u001b[1;33m\u001b[0m\u001b[0m\n\u001b[0m\u001b[0;32m    118\u001b[0m     \u001b[1;32melse\u001b[0m\u001b[1;33m:\u001b[0m\u001b[1;33m\u001b[0m\u001b[0m\n\u001b[0;32m    119\u001b[0m         \u001b[1;32mreturn\u001b[0m \u001b[0mratio\u001b[0m\u001b[1;33m(\u001b[0m\u001b[0msorted1\u001b[0m\u001b[1;33m,\u001b[0m \u001b[0msorted2\u001b[0m\u001b[1;33m)\u001b[0m\u001b[1;33m\u001b[0m\u001b[0m\n",
      "\u001b[1;32m/usr/local/lib/python3.4/dist-packages/fuzzywuzzy/utils.py\u001b[0m in \u001b[0;36mdecorator\u001b[1;34m(*args, **kwargs)\u001b[0m\n\u001b[0;32m     21\u001b[0m         \u001b[1;32mif\u001b[0m \u001b[0margs\u001b[0m\u001b[1;33m[\u001b[0m\u001b[1;36m0\u001b[0m\u001b[1;33m]\u001b[0m \u001b[1;32mis\u001b[0m \u001b[1;32mNone\u001b[0m \u001b[1;32mor\u001b[0m \u001b[0margs\u001b[0m\u001b[1;33m[\u001b[0m\u001b[1;36m1\u001b[0m\u001b[1;33m]\u001b[0m \u001b[1;32mis\u001b[0m \u001b[1;32mNone\u001b[0m\u001b[1;33m:\u001b[0m\u001b[1;33m\u001b[0m\u001b[0m\n\u001b[0;32m     22\u001b[0m             \u001b[1;32mreturn\u001b[0m \u001b[1;36m0\u001b[0m\u001b[1;33m\u001b[0m\u001b[0m\n\u001b[1;32m---> 23\u001b[1;33m         \u001b[1;32mreturn\u001b[0m \u001b[0mfunc\u001b[0m\u001b[1;33m(\u001b[0m\u001b[1;33m*\u001b[0m\u001b[0margs\u001b[0m\u001b[1;33m,\u001b[0m \u001b[1;33m**\u001b[0m\u001b[0mkwargs\u001b[0m\u001b[1;33m)\u001b[0m\u001b[1;33m\u001b[0m\u001b[0m\n\u001b[0m\u001b[0;32m     24\u001b[0m     \u001b[1;32mreturn\u001b[0m \u001b[0mdecorator\u001b[0m\u001b[1;33m\u001b[0m\u001b[0m\n\u001b[0;32m     25\u001b[0m \u001b[1;33m\u001b[0m\u001b[0m\n",
      "\u001b[1;32m/usr/local/lib/python3.4/dist-packages/fuzzywuzzy/utils.py\u001b[0m in \u001b[0;36mdecorator\u001b[1;34m(*args, **kwargs)\u001b[0m\n\u001b[0;32m     30\u001b[0m         \u001b[1;32mif\u001b[0m \u001b[0mlen\u001b[0m\u001b[1;33m(\u001b[0m\u001b[0margs\u001b[0m\u001b[1;33m[\u001b[0m\u001b[1;36m0\u001b[0m\u001b[1;33m]\u001b[0m\u001b[1;33m)\u001b[0m \u001b[1;33m==\u001b[0m \u001b[1;36m0\u001b[0m \u001b[1;32mor\u001b[0m \u001b[0mlen\u001b[0m\u001b[1;33m(\u001b[0m\u001b[0margs\u001b[0m\u001b[1;33m[\u001b[0m\u001b[1;36m1\u001b[0m\u001b[1;33m]\u001b[0m\u001b[1;33m)\u001b[0m \u001b[1;33m==\u001b[0m \u001b[1;36m0\u001b[0m\u001b[1;33m:\u001b[0m\u001b[1;33m\u001b[0m\u001b[0m\n\u001b[0;32m     31\u001b[0m             \u001b[1;32mreturn\u001b[0m \u001b[1;36m0\u001b[0m\u001b[1;33m\u001b[0m\u001b[0m\n\u001b[1;32m---> 32\u001b[1;33m         \u001b[1;32mreturn\u001b[0m \u001b[0mfunc\u001b[0m\u001b[1;33m(\u001b[0m\u001b[1;33m*\u001b[0m\u001b[0margs\u001b[0m\u001b[1;33m,\u001b[0m \u001b[1;33m**\u001b[0m\u001b[0mkwargs\u001b[0m\u001b[1;33m)\u001b[0m\u001b[1;33m\u001b[0m\u001b[0m\n\u001b[0m\u001b[0;32m     33\u001b[0m     \u001b[1;32mreturn\u001b[0m \u001b[0mdecorator\u001b[0m\u001b[1;33m\u001b[0m\u001b[0m\n\u001b[0;32m     34\u001b[0m \u001b[1;33m\u001b[0m\u001b[0m\n",
      "\u001b[1;32m/usr/local/lib/python3.4/dist-packages/fuzzywuzzy/fuzz.py\u001b[0m in \u001b[0;36mpartial_ratio\u001b[1;34m(s1, s2)\u001b[0m\n\u001b[0;32m     82\u001b[0m \u001b[1;33m\u001b[0m\u001b[0m\n\u001b[0;32m     83\u001b[0m         \u001b[0mm2\u001b[0m \u001b[1;33m=\u001b[0m \u001b[0mSequenceMatcher\u001b[0m\u001b[1;33m(\u001b[0m\u001b[1;32mNone\u001b[0m\u001b[1;33m,\u001b[0m \u001b[0mshorter\u001b[0m\u001b[1;33m,\u001b[0m \u001b[0mlong_substr\u001b[0m\u001b[1;33m)\u001b[0m\u001b[1;33m\u001b[0m\u001b[0m\n\u001b[1;32m---> 84\u001b[1;33m         \u001b[0mr\u001b[0m \u001b[1;33m=\u001b[0m \u001b[0mm2\u001b[0m\u001b[1;33m.\u001b[0m\u001b[0mratio\u001b[0m\u001b[1;33m(\u001b[0m\u001b[1;33m)\u001b[0m\u001b[1;33m\u001b[0m\u001b[0m\n\u001b[0m\u001b[0;32m     85\u001b[0m         \u001b[1;32mif\u001b[0m \u001b[0mr\u001b[0m \u001b[1;33m>\u001b[0m \u001b[1;36m.995\u001b[0m\u001b[1;33m:\u001b[0m\u001b[1;33m\u001b[0m\u001b[0m\n\u001b[0;32m     86\u001b[0m             \u001b[1;32mreturn\u001b[0m \u001b[1;36m100\u001b[0m\u001b[1;33m\u001b[0m\u001b[0m\n",
      "\u001b[1;32m/usr/lib/python3.4/difflib.py\u001b[0m in \u001b[0;36mratio\u001b[1;34m(self)\u001b[0m\n\u001b[0;32m    642\u001b[0m         \"\"\"\n\u001b[0;32m    643\u001b[0m \u001b[1;33m\u001b[0m\u001b[0m\n\u001b[1;32m--> 644\u001b[1;33m         \u001b[0mmatches\u001b[0m \u001b[1;33m=\u001b[0m \u001b[0msum\u001b[0m\u001b[1;33m(\u001b[0m\u001b[0mtriple\u001b[0m\u001b[1;33m[\u001b[0m\u001b[1;33m-\u001b[0m\u001b[1;36m1\u001b[0m\u001b[1;33m]\u001b[0m \u001b[1;32mfor\u001b[0m \u001b[0mtriple\u001b[0m \u001b[1;32min\u001b[0m \u001b[0mself\u001b[0m\u001b[1;33m.\u001b[0m\u001b[0mget_matching_blocks\u001b[0m\u001b[1;33m(\u001b[0m\u001b[1;33m)\u001b[0m\u001b[1;33m)\u001b[0m\u001b[1;33m\u001b[0m\u001b[0m\n\u001b[0m\u001b[0;32m    645\u001b[0m         \u001b[1;32mreturn\u001b[0m \u001b[0m_calculate_ratio\u001b[0m\u001b[1;33m(\u001b[0m\u001b[0mmatches\u001b[0m\u001b[1;33m,\u001b[0m \u001b[0mlen\u001b[0m\u001b[1;33m(\u001b[0m\u001b[0mself\u001b[0m\u001b[1;33m.\u001b[0m\u001b[0ma\u001b[0m\u001b[1;33m)\u001b[0m \u001b[1;33m+\u001b[0m \u001b[0mlen\u001b[0m\u001b[1;33m(\u001b[0m\u001b[0mself\u001b[0m\u001b[1;33m.\u001b[0m\u001b[0mb\u001b[0m\u001b[1;33m)\u001b[0m\u001b[1;33m)\u001b[0m\u001b[1;33m\u001b[0m\u001b[0m\n\u001b[0;32m    646\u001b[0m \u001b[1;33m\u001b[0m\u001b[0m\n",
      "\u001b[1;32m/usr/lib/python3.4/difflib.py\u001b[0m in \u001b[0;36mget_matching_blocks\u001b[1;34m(self)\u001b[0m\n\u001b[0;32m    477\u001b[0m         \u001b[1;32mwhile\u001b[0m \u001b[0mqueue\u001b[0m\u001b[1;33m:\u001b[0m\u001b[1;33m\u001b[0m\u001b[0m\n\u001b[0;32m    478\u001b[0m             \u001b[0malo\u001b[0m\u001b[1;33m,\u001b[0m \u001b[0mahi\u001b[0m\u001b[1;33m,\u001b[0m \u001b[0mblo\u001b[0m\u001b[1;33m,\u001b[0m \u001b[0mbhi\u001b[0m \u001b[1;33m=\u001b[0m \u001b[0mqueue\u001b[0m\u001b[1;33m.\u001b[0m\u001b[0mpop\u001b[0m\u001b[1;33m(\u001b[0m\u001b[1;33m)\u001b[0m\u001b[1;33m\u001b[0m\u001b[0m\n\u001b[1;32m--> 479\u001b[1;33m             \u001b[0mi\u001b[0m\u001b[1;33m,\u001b[0m \u001b[0mj\u001b[0m\u001b[1;33m,\u001b[0m \u001b[0mk\u001b[0m \u001b[1;33m=\u001b[0m \u001b[0mx\u001b[0m \u001b[1;33m=\u001b[0m \u001b[0mself\u001b[0m\u001b[1;33m.\u001b[0m\u001b[0mfind_longest_match\u001b[0m\u001b[1;33m(\u001b[0m\u001b[0malo\u001b[0m\u001b[1;33m,\u001b[0m \u001b[0mahi\u001b[0m\u001b[1;33m,\u001b[0m \u001b[0mblo\u001b[0m\u001b[1;33m,\u001b[0m \u001b[0mbhi\u001b[0m\u001b[1;33m)\u001b[0m\u001b[1;33m\u001b[0m\u001b[0m\n\u001b[0m\u001b[0;32m    480\u001b[0m             \u001b[1;31m# a[alo:i] vs b[blo:j] unknown\u001b[0m\u001b[1;33m\u001b[0m\u001b[1;33m\u001b[0m\u001b[0m\n\u001b[0;32m    481\u001b[0m             \u001b[1;31m# a[i:i+k] same as b[j:j+k]\u001b[0m\u001b[1;33m\u001b[0m\u001b[1;33m\u001b[0m\u001b[0m\n",
      "\u001b[1;32m/usr/lib/python3.4/difflib.py\u001b[0m in \u001b[0;36mfind_longest_match\u001b[1;34m(self, alo, ahi, blo, bhi)\u001b[0m\n\u001b[0;32m    401\u001b[0m             \u001b[1;31m# b2j has no junk keys, the loop is skipped if a[i] is junk\u001b[0m\u001b[1;33m\u001b[0m\u001b[1;33m\u001b[0m\u001b[0m\n\u001b[0;32m    402\u001b[0m             \u001b[0mj2lenget\u001b[0m \u001b[1;33m=\u001b[0m \u001b[0mj2len\u001b[0m\u001b[1;33m.\u001b[0m\u001b[0mget\u001b[0m\u001b[1;33m\u001b[0m\u001b[0m\n\u001b[1;32m--> 403\u001b[1;33m             \u001b[0mnewj2len\u001b[0m \u001b[1;33m=\u001b[0m \u001b[1;33m{\u001b[0m\u001b[1;33m}\u001b[0m\u001b[1;33m\u001b[0m\u001b[0m\n\u001b[0m\u001b[0;32m    404\u001b[0m             \u001b[1;32mfor\u001b[0m \u001b[0mj\u001b[0m \u001b[1;32min\u001b[0m \u001b[0mb2j\u001b[0m\u001b[1;33m.\u001b[0m\u001b[0mget\u001b[0m\u001b[1;33m(\u001b[0m\u001b[0ma\u001b[0m\u001b[1;33m[\u001b[0m\u001b[0mi\u001b[0m\u001b[1;33m]\u001b[0m\u001b[1;33m,\u001b[0m \u001b[0mnothing\u001b[0m\u001b[1;33m)\u001b[0m\u001b[1;33m:\u001b[0m\u001b[1;33m\u001b[0m\u001b[0m\n\u001b[0;32m    405\u001b[0m                 \u001b[1;31m# a[i] matches b[j]\u001b[0m\u001b[1;33m\u001b[0m\u001b[1;33m\u001b[0m\u001b[0m\n",
      "\u001b[1;31mKeyboardInterrupt\u001b[0m: "
     ]
    }
   ],
   "source": [
    "for e in not_in_model_list:\n",
    "    print(e, \":\", process.extract(e, candidates, limit=2))\n",
    "#This proceeds roughly at the rate of 1 entity per 10 minutes, and doesn't even return satisfying results.\n",
    "#Killed it after about 25 hours"
   ]
  },
  {
   "cell_type": "code",
   "execution_count": 11,
   "metadata": {
    "collapsed": false
   },
   "outputs": [
    {
     "name": "stdout",
     "output_type": "stream",
     "text": [
      "/m/0ch0_f6\n",
      "/en/shane_howarth\n",
      "/en/fellsmere\n",
      "/en/russian_first_division\n",
      "/en/albert_bridge_brisbane\n",
      "/en/criminal_defense_lawyer\n"
     ]
    }
   ],
   "source": [
    "i = 0\n",
    "for key in model.vocab.keys():\n",
    "    print(key)\n",
    "    if i == 5:\n",
    "        break\n",
    "    i += 1"
   ]
  },
  {
   "cell_type": "code",
   "execution_count": null,
   "metadata": {
    "collapsed": false
   },
   "outputs": [],
   "source": [
    "all_vectors = np.zeros((1000,1))\n",
    "#print(all_vectors)\n",
    "#print(model['/en/shane_howarth'])"
   ]
  },
  {
   "cell_type": "code",
   "execution_count": 50,
   "metadata": {
    "collapsed": false
   },
   "outputs": [
    {
     "data": {
      "text/plain": [
       "(1000,)"
      ]
     },
     "execution_count": 50,
     "metadata": {},
     "output_type": "execute_result"
    }
   ],
   "source": [
    "x.shape"
   ]
  },
  {
   "cell_type": "code",
   "execution_count": 53,
   "metadata": {
    "collapsed": false
   },
   "outputs": [
    {
     "ename": "IndexError",
     "evalue": "invalid index to scalar variable.",
     "output_type": "error",
     "traceback": [
      "\u001b[1;31m---------------------------------------------------------------------------\u001b[0m",
      "\u001b[1;31mIndexError\u001b[0m                                Traceback (most recent call last)",
      "\u001b[1;32m<ipython-input-53-1d050bb83157>\u001b[0m in \u001b[0;36m<module>\u001b[1;34m()\u001b[0m\n\u001b[1;32m----> 1\u001b[1;33m \u001b[0mx\u001b[0m\u001b[1;33m[\u001b[0m\u001b[1;36m0\u001b[0m\u001b[1;33m]\u001b[0m\u001b[1;33m[\u001b[0m\u001b[1;36m0\u001b[0m\u001b[1;33m]\u001b[0m\u001b[1;33m,\u001b[0m\u001b[0mx\u001b[0m\u001b[1;33m[\u001b[0m\u001b[1;36m1\u001b[0m\u001b[1;33m]\u001b[0m\u001b[1;33m,\u001b[0m\u001b[0mx\u001b[0m\u001b[1;33m[\u001b[0m\u001b[1;36m2\u001b[0m\u001b[1;33m]\u001b[0m\u001b[1;33m\u001b[0m\u001b[0m\n\u001b[0m",
      "\u001b[1;31mIndexError\u001b[0m: invalid index to scalar variable."
     ]
    }
   ],
   "source": [
    "x[0][0],x[1],x[2]"
   ]
  },
  {
   "cell_type": "code",
   "execution_count": null,
   "metadata": {
    "collapsed": true
   },
   "outputs": [],
   "source": []
  }
 ],
 "metadata": {
  "kernelspec": {
   "display_name": "Python 3",
   "language": "python",
   "name": "python3"
  },
  "language_info": {
   "codemirror_mode": {
    "name": "ipython",
    "version": 3
   },
   "file_extension": ".py",
   "mimetype": "text/x-python",
   "name": "python",
   "nbconvert_exporter": "python",
   "pygments_lexer": "ipython3",
   "version": "3.4.3"
  }
 },
 "nbformat": 4,
 "nbformat_minor": 0
}
